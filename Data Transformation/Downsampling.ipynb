{
 "cells": [
  {
   "cell_type": "markdown",
   "metadata": {},
   "source": [
    "# Downsampling of large image data\n",
    "\n",
    "I used this Notebook to create smaller versions of the 2GB Mars elevation map\n",
    "provided by the USGS (which can be found [here](Mars Map)). I found that\n",
    "`scipy.misc.imresize()` required far too much RAM (exceeding the available\n",
    "physical 16GB RAM of my machine).\n",
    "\n",
    "This method uses two-pass bilinear downscaling. Note that clearly visibly a lot\n",
    "of detail is lost by the x8 and x16 downsampling.\n",
    "\n",
    "[Mars Map]: https://astrogeology.usgs.gov/search/map/Mars/GlobalSurveyor/MOLA/Mars_MGS_MOLA_DEM_mosaic_global_463m"
   ]
  },
  {
   "cell_type": "code",
   "execution_count": 33,
   "metadata": {
    "collapsed": true
   },
   "outputs": [],
   "source": [
    "img = tifffile.imread('./Mars_MGS_MOLA_DEM_mosaic_global_463m.tif')"
   ]
  },
  {
   "cell_type": "code",
   "execution_count": 34,
   "metadata": {
    "collapsed": true
   },
   "outputs": [],
   "source": [
    "import numpy as np\n",
    "import tifffile\n",
    "\n",
    "\n",
    "def resize(img, size):\n",
    "  dtype = img.dtype\n",
    "\n",
    "  xin = np.linspace(0, 1, img.shape[1])\n",
    "  xot = np.linspace(0, 1, size[1])\n",
    "  img = np.array([np.interp(xot, xin, col) for col in img])\n",
    "\n",
    "  xin = np.linspace(0, 1, img.shape[0])\n",
    "  xot = np.linspace(0, 1, size[0])\n",
    "  img = np.array([np.interp(xot, xin, col) for col in img.T]).T\n",
    "  \n",
    "  return img.astype(dtype)\n",
    "\n",
    "\n",
    "for i in (2, 4, 8, 16):\n",
    "  new_image = resize(img, (img.shape[0] // i, img.shape[1] // i))\n",
    "  tifffile.imsave('./Mars_MGS_MOLA_DEM_mosaic_global_463m_x{}.tif'.format(i), new_image)"
   ]
  }
 ],
 "metadata": {
  "kernelspec": {
   "display_name": "Python 3",
   "language": "python",
   "name": "python3"
  },
  "language_info": {
   "codemirror_mode": {
    "name": "ipython",
    "version": 3
   },
   "file_extension": ".py",
   "mimetype": "text/x-python",
   "name": "python",
   "nbconvert_exporter": "python",
   "pygments_lexer": "ipython3",
   "version": "3.6.2"
  }
 },
 "nbformat": 4,
 "nbformat_minor": 2
}
